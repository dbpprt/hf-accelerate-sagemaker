{
 "cells": [
  {
   "cell_type": "code",
   "execution_count": 2,
   "metadata": {},
   "outputs": [
    {
     "name": "stderr",
     "output_type": "stream",
     "text": [
      "Using custom data configuration default-34970936245bb719\n"
     ]
    }
   ],
   "source": [
    "from datasets import load_dataset_builder, load_dataset\n",
    "\n",
    "builder = load_dataset_builder(\"csv\")"
   ]
  },
  {
   "cell_type": "code",
   "execution_count": 5,
   "metadata": {},
   "outputs": [
    {
     "name": "stderr",
     "output_type": "stream",
     "text": [
      "Using custom data configuration default-8e4a2e940142ec1b\n"
     ]
    },
    {
     "name": "stdout",
     "output_type": "stream",
     "text": [
      "Downloading and preparing dataset csv/default (download: 12.48 MiB, generated: 12.69 MiB, post-processed: Unknown size, total: 25.17 MiB) to /workspaces/hf-accelerate-sagemaker/.data...\n"
     ]
    },
    {
     "data": {
      "application/vnd.jupyter.widget-view+json": {
       "model_id": "888e40183ac448dbba542b68a59574b2",
       "version_major": 2,
       "version_minor": 0
      },
      "text/plain": [
       "Downloading data files:   0%|          | 0/2 [00:00<?, ?it/s]"
      ]
     },
     "metadata": {},
     "output_type": "display_data"
    },
    {
     "data": {
      "application/vnd.jupyter.widget-view+json": {
       "model_id": "371f52c3afa8470f8a82261eb26ab851",
       "version_major": 2,
       "version_minor": 0
      },
      "text/plain": [
       "Extracting data files:   0%|          | 0/2 [00:00<?, ?it/s]"
      ]
     },
     "metadata": {},
     "output_type": "display_data"
    },
    {
     "data": {
      "application/vnd.jupyter.widget-view+json": {
       "model_id": "3f6aba69590e4897ab2fbd3e71e27b6e",
       "version_major": 2,
       "version_minor": 0
      },
      "text/plain": [
       "Generating train split:   0%|          | 0/7000 [00:00<?, ? examples/s]"
      ]
     },
     "metadata": {},
     "output_type": "display_data"
    },
    {
     "name": "stderr",
     "output_type": "stream",
     "text": [
      "/opt/conda/envs/dev/lib/python3.10/site-packages/datasets/download/streaming_download_manager.py:776: FutureWarning: the 'mangle_dupe_cols' keyword is deprecated and will be removed in a future version. Please take steps to stop the use of 'mangle_dupe_cols'\n",
      "  return pd.read_csv(xopen(filepath_or_buffer, \"rb\", use_auth_token=use_auth_token), **kwargs)\n"
     ]
    },
    {
     "data": {
      "application/vnd.jupyter.widget-view+json": {
       "model_id": "62b60fd3454b4c9da05bd4e9e741b43f",
       "version_major": 2,
       "version_minor": 0
      },
      "text/plain": [
       "Generating test split:   0%|          | 0/800 [00:00<?, ? examples/s]"
      ]
     },
     "metadata": {},
     "output_type": "display_data"
    },
    {
     "name": "stderr",
     "output_type": "stream",
     "text": [
      "/opt/conda/envs/dev/lib/python3.10/site-packages/datasets/download/streaming_download_manager.py:776: FutureWarning: the 'mangle_dupe_cols' keyword is deprecated and will be removed in a future version. Please take steps to stop the use of 'mangle_dupe_cols'\n",
      "  return pd.read_csv(xopen(filepath_or_buffer, \"rb\", use_auth_token=use_auth_token), **kwargs)\n"
     ]
    },
    {
     "name": "stdout",
     "output_type": "stream",
     "text": [
      "Dataset csv downloaded and prepared to /workspaces/hf-accelerate-sagemaker/.data. Subsequent calls will reuse this data.\n"
     ]
    }
   ],
   "source": [
    "data_files = {\"train\": \"./data/train.csv\", \"test\": \"./data/test.csv\"}\n",
    "\n",
    "# this is really specific to the Stackoverflow dataset\n",
    "# change it for your respective dataset\n",
    "dataset = load_dataset_builder(\n",
    "    \"csv\",\n",
    "    data_files=data_files,\n",
    "    column_names=[\n",
    "        \"label_0\",\n",
    "        \"label_1\",\n",
    "        \"label_2\",\n",
    "        \"label_3\",\n",
    "        \"label_4\",\n",
    "        \"label_5\",\n",
    "        \"label_6\",\n",
    "        \"post\",\n",
    "    ],\n",
    ")\n",
    "\n",
    "dataset.download_and_prepare('./.data', storage_options={\"anon\": True}, file_format=\"parquet\")"
   ]
  }
 ],
 "metadata": {
  "kernelspec": {
   "display_name": "dev",
   "language": "python",
   "name": "python3"
  },
  "language_info": {
   "codemirror_mode": {
    "name": "ipython",
    "version": 3
   },
   "file_extension": ".py",
   "mimetype": "text/x-python",
   "name": "python",
   "nbconvert_exporter": "python",
   "pygments_lexer": "ipython3",
   "version": "3.10.9"
  },
  "orig_nbformat": 4,
  "vscode": {
   "interpreter": {
    "hash": "62e67a83eca6e542ae263c60cec4f6dec4cbb93237356f2037b8454ca6367d8b"
   }
  }
 },
 "nbformat": 4,
 "nbformat_minor": 2
}
